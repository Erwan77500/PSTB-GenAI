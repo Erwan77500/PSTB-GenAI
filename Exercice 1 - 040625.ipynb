{
 "cells": [
  {
   "cell_type": "code",
   "execution_count": 1,
   "id": "ebbb4653",
   "metadata": {},
   "outputs": [
    {
     "name": "stdout",
     "output_type": "stream",
     "text": [
      "Valeurs de la liste :\n",
      "1\n",
      "2\n",
      "3\n",
      "4\n"
     ]
    }
   ],
   "source": [
    "x = [1, 2, 3, 4]\n",
    "print(\"Valeurs de la liste :\")\n",
    "for valeur in x:\n",
    "    print(valeur)"
   ]
  },
  {
   "cell_type": "code",
   "execution_count": null,
   "id": "de3e059b",
   "metadata": {},
   "outputs": [
    {
     "name": "stdout",
     "output_type": "stream",
     "text": [
      "20\n",
      "40\n",
      "60\n",
      "80\n"
     ]
    }
   ],
   "source": [
    "# 2 - Imprimer toutes les valeurs multipliées par 20\n",
    "for valeur in x:\n",
    "    print(valeur * 20)"
   ]
  },
  {
   "cell_type": "code",
   "execution_count": null,
   "id": "e865b323",
   "metadata": {},
   "outputs": [
    {
     "name": "stdout",
     "output_type": "stream",
     "text": [
      "['Elie', 'Tim', 'Matt']\n",
      "['E', 'T', 'M']\n"
     ]
    }
   ],
   "source": [
    "# 3 - Création d'une nouvelle liste qu'on va nommer noms et les initiales\n",
    "noms = [\"Elie\", \"Tim\", \"Matt\"]\n",
    "initiales = [nom[0] for nom in noms]\n",
    "print(noms)\n",
    "print(initiales)"
   ]
  },
  {
   "cell_type": "code",
   "execution_count": 8,
   "id": "ff01717c",
   "metadata": {},
   "outputs": [
    {
     "name": "stdout",
     "output_type": "stream",
     "text": [
      "[2, 4, 6]\n"
     ]
    }
   ],
   "source": [
    "# Création d'une liste sous la variable a\n",
    "a = [1, 2, 3, 4, 5, 6]\n",
    "# Création d'une nouvelle liste nommé pairs avec la variable a, uniquement les chiffres pairs\n",
    "pairs = [n for n in a if n % 2 == 0]\n",
    "print(pairs)"
   ]
  },
  {
   "cell_type": "code",
   "execution_count": null,
   "id": "c8ffcc70",
   "metadata": {},
   "outputs": [
    {
     "name": "stdout",
     "output_type": "stream",
     "text": [
      "[2, 4, 6]\n"
     ]
    }
   ],
   "source": [
    "# Cr&tion d'une nouvelle liste contenant uniquelement les chiffres présentes dans la liste a et pairs\n",
    "b = [x for x in a if x in pairs]\n",
    "print(b)"
   ]
  },
  {
   "cell_type": "code",
   "execution_count": 10,
   "id": "4420cb2d",
   "metadata": {},
   "outputs": [
    {
     "name": "stdout",
     "output_type": "stream",
     "text": [
      "[1, 2, 3, 4]\n",
      "[3, 4, 5, 6]\n"
     ]
    }
   ],
   "source": [
    "# Création de 2 listes c et d \n",
    "c = [1, 2, 3, 4]\n",
    "d = [3, 4, 5, 6]\n",
    "print(c)\n",
    "print(d)"
   ]
  },
  {
   "cell_type": "code",
   "execution_count": 11,
   "id": "a0e790f5",
   "metadata": {},
   "outputs": [
    {
     "name": "stdout",
     "output_type": "stream",
     "text": [
      "[3, 4]\n"
     ]
    }
   ],
   "source": [
    "# se baser sur le module intersection qu'on va nommer e comme variable\n",
    "e = list(set(c) & set(d))\n",
    "print(e)"
   ]
  },
  {
   "cell_type": "code",
   "execution_count": 16,
   "id": "9fd5249e",
   "metadata": {},
   "outputs": [
    {
     "name": "stdout",
     "output_type": "stream",
     "text": [
      "['eile', 'mit', 'ttam']\n"
     ]
    }
   ],
   "source": [
    "# reprendre la variable nom\n",
    "noms = [\"Elie\", \"Tim\", \"Matt\"]\n",
    "# Inverser chaque mot et le mettre en minuscules\n",
    "f = [nom[::-1].lower() for nom in noms]\n",
    "print(f)"
   ]
  },
  {
   "cell_type": "code",
   "execution_count": 18,
   "id": "f51e286b",
   "metadata": {},
   "outputs": [
    {
     "name": "stdout",
     "output_type": "stream",
     "text": [
      "['t', 'i', 'r']\n"
     ]
    }
   ],
   "source": [
    "# création de 2 nouvelles variables\n",
    "g =\"first\"\n",
    "h =\"third\"\n",
    "# création d'une nouvelle liste qui reprend les lettres commune entre les listes g et h\n",
    "i = list(set(g) & set(h))\n",
    "print(i)"
   ]
  },
  {
   "cell_type": "code",
   "execution_count": 19,
   "id": "ef8b09d9",
   "metadata": {},
   "outputs": [
    {
     "name": "stdout",
     "output_type": "stream",
     "text": [
      "[12, 24, 36, 48, 60, 72, 84, 96]\n"
     ]
    }
   ],
   "source": [
    "# Point 8 : \n",
    "j = [x for x in range(1, 100) if x % 12 == 0]\n",
    "print(j)"
   ]
  },
  {
   "cell_type": "code",
   "execution_count": 20,
   "id": "f566d2b0",
   "metadata": {},
   "outputs": [
    {
     "name": "stdout",
     "output_type": "stream",
     "text": [
      "mzng\n"
     ]
    }
   ],
   "source": [
    "# création de 2 nouvelles variables avec le mot amazing et toutes les voyelles\n",
    "k = \"amazing\"\n",
    "voyelles = \"aeiou\"\n",
    "# Supprimer les voyelles dans une nouvelle liste\n",
    "l = ''.join([c for c in k if c not in voyelles])\n",
    "print(l)"
   ]
  },
  {
   "cell_type": "code",
   "execution_count": 21,
   "id": "8b9e1084",
   "metadata": {},
   "outputs": [
    {
     "name": "stdout",
     "output_type": "stream",
     "text": [
      "[[0, 1, 2], [0, 1, 2], [0, 1, 2]]\n"
     ]
    }
   ],
   "source": [
    "# Generate a list with the following value: .[[0, 1, 2], [0, 1, 2], [0, 1, 2]]\n",
    "m = [[0, 1, 2], [0, 1, 2], [0, 1, 2]]\n",
    "print(m)"
   ]
  },
  {
   "cell_type": "code",
   "execution_count": 22,
   "id": "22687e0d",
   "metadata": {},
   "outputs": [
    {
     "name": "stdout",
     "output_type": "stream",
     "text": [
      "[[0, 1, 2, 3, 4, 5, 6, 7, 8, 9], [0, 1, 2, 3, 4, 5, 6, 7, 8, 9], [0, 1, 2, 3, 4, 5, 6, 7, 8, 9], [0, 1, 2, 3, 4, 5, 6, 7, 8, 9], [0, 1, 2, 3, 4, 5, 6, 7, 8, 9], [0, 1, 2, 3, 4, 5, 6, 7, 8, 9], [0, 1, 2, 3, 4, 5, 6, 7, 8, 9], [0, 1, 2, 3, 4, 5, 6, 7, 8, 9], [0, 1, 2, 3, 4, 5, 6, 7, 8, 9], [0, 1, 2, 3, 4, 5, 6, 7, 8, 9]]\n"
     ]
    }
   ],
   "source": [
    "# Utiliser la fonction i for i in range et une 2ème action avec for_in range pour dupliquer les lignes\n",
    "n = [[i for i in range(10)] for _ in range(10)]\n",
    "print(n)"
   ]
  }
 ],
 "metadata": {
  "kernelspec": {
   "display_name": "Python 3",
   "language": "python",
   "name": "python3"
  },
  "language_info": {
   "codemirror_mode": {
    "name": "ipython",
    "version": 3
   },
   "file_extension": ".py",
   "mimetype": "text/x-python",
   "name": "python",
   "nbconvert_exporter": "python",
   "pygments_lexer": "ipython3",
   "version": "3.11.9"
  }
 },
 "nbformat": 4,
 "nbformat_minor": 5
}
