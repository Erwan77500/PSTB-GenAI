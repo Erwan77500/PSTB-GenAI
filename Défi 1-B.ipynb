{
 "cells": [
  {
   "cell_type": "code",
   "execution_count": 3,
   "id": "622a3224",
   "metadata": {},
   "outputs": [
    {
     "name": "stdout",
     "output_type": "stream",
     "text": [
      "\n",
      "🎉 Joyeux anniversaire ! 🎉\n",
      "\n",
      "     ___ii___\n",
      "    |:J:o:y:e:u:x:|\n",
      "  __|_____________|___\n",
      " |^^^^^^^^^^^^^^^^^^^|\n",
      " |:A:n:n:i:v:e:r:s:a:i:r:e:|\n",
      " |                       |\n",
      " ~~~~~~~~~~~~~~~~~~~~~~~~~\n"
     ]
    }
   ],
   "source": [
    "from datetime import datetime\n",
    "import calendar\n",
    "\n",
    "def afficher_gateau(nombre_bougies):\n",
    "    bougies = \"i\" * nombre_bougies\n",
    "    print(f\"     ___{bougies}___\")\n",
    "    print(\"    |:J:o:y:e:u:x:|\")\n",
    "    print(\"  __|_____________|___\")\n",
    "    print(\" |^^^^^^^^^^^^^^^^^^^|\")\n",
    "    print(\" |:A:n:n:i:v:e:r:s:a:i:r:e:|\")\n",
    "    print(\" |                       |\")\n",
    "    print(\" ~~~~~~~~~~~~~~~~~~~~~~~~~\")\n",
    "\n",
    "def main():\n",
    "    # Demander la date de naissance\n",
    "    date_str = input(\"Entrez votre date de naissance (JJ/MM/AAAA) : \")\n",
    "\n",
    "    try:\n",
    "        naissance = datetime.strptime(date_str, \"%d/%m/%Y\")\n",
    "    except ValueError:\n",
    "        print(\"Format invalide. Veuillez entrer la date au format JJ/MM/AAAA.\")\n",
    "        return\n",
    "\n",
    "    aujourd_hui = datetime.today()\n",
    "    age = aujourd_hui.year - naissance.year\n",
    "\n",
    "    # Ajuster si l'anniversaire n'est pas encore passé cette année\n",
    "    if (aujourd_hui.month, aujourd_hui.day) < (naissance.month, naissance.day):\n",
    "        age -= 1\n",
    "\n",
    "    dernier_chiffre = age % 10\n",
    "\n",
    "    # Afficher le gâteau une ou deux fois selon l'année bissextile\n",
    "    if calendar.isleap(naissance.year):\n",
    "        print(\"\\n🎉 Vous êtes né(e) une année bissextile ! Deux gâteaux pour vous ! 🎉\\n\")\n",
    "        afficher_gateau(dernier_chiffre)\n",
    "        print()\n",
    "        afficher_gateau(dernier_chiffre)\n",
    "    else:\n",
    "        print(\"\\n🎉 Joyeux anniversaire ! 🎉\\n\")\n",
    "        afficher_gateau(dernier_chiffre)\n",
    "\n",
    "if __name__ == \"__main__\":\n",
    "    main()"
   ]
  }
 ],
 "metadata": {
  "kernelspec": {
   "display_name": "Python 3",
   "language": "python",
   "name": "python3"
  },
  "language_info": {
   "codemirror_mode": {
    "name": "ipython",
    "version": 3
   },
   "file_extension": ".py",
   "mimetype": "text/x-python",
   "name": "python",
   "nbconvert_exporter": "python",
   "pygments_lexer": "ipython3",
   "version": "3.11.9"
  }
 },
 "nbformat": 4,
 "nbformat_minor": 5
}
