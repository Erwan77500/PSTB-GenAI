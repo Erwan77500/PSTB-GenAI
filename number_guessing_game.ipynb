{
 "cells": [
  {
   "cell_type": "code",
   "execution_count": 6,
   "id": "a12d1127",
   "metadata": {},
   "outputs": [
    {
     "name": "stdout",
     "output_type": "stream",
     "text": [
      "Too hight!\n",
      "Too hight!\n",
      "Too hight!\n",
      "Too low!\n",
      "Fire in the hole!!! Congrats soldier! You win the game!!!\n"
     ]
    }
   ],
   "source": [
    "import random\n",
    "def number_guessing_game():\n",
    "    random_number = random.randint(1, 100)\n",
    "    max_attempts = 7\n",
    "    for attempt in range(1, max_attempts + 1):\n",
    "        guess = int(input(f\"Tentative {attempt}: Guess your number soldier: \"))\n",
    "        if guess < random_number:\n",
    "            print(\"Too low!\")\n",
    "        elif guess > random_number:\n",
    "            print(\"Too hight!\")\n",
    "        else :\n",
    "            print(\"Fire in the hole!!! Congrats soldier! You win the game!!!\")\n",
    "            break\n",
    "        \n",
    "    else:\n",
    "        print(f\"Le bon nombre était {random_number} Game over!!!.\")\n",
    "     \n",
    "number_guessing_game()"
   ]
  }
 ],
 "metadata": {
  "kernelspec": {
   "display_name": "Python 3",
   "language": "python",
   "name": "python3"
  },
  "language_info": {
   "codemirror_mode": {
    "name": "ipython",
    "version": 3
   },
   "file_extension": ".py",
   "mimetype": "text/x-python",
   "name": "python",
   "nbconvert_exporter": "python",
   "pygments_lexer": "ipython3",
   "version": "3.11.9"
  }
 },
 "nbformat": 4,
 "nbformat_minor": 5
}
