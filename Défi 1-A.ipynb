{
 "cells": [
  {
   "cell_type": "markdown",
   "id": "ac4ee14a",
   "metadata": {},
   "source": [
    "Challenge 1"
   ]
  },
  {
   "cell_type": "code",
   "execution_count": 3,
   "id": "22204743",
   "metadata": {},
   "outputs": [
    {
     "name": "stdout",
     "output_type": "stream",
     "text": [
      "a list of multiples : [12, 24, 36, 48, 60, 72, 84, 96, 108, 120]\n"
     ]
    }
   ],
   "source": [
    "number = int(input(\"Enter a number : \"))\n",
    "length = int(input(\"Enter a length : \"))\n",
    "\n",
    "multiples = []\n",
    "for i in range(1, length + 1):\n",
    "    multiples.append(number * i)\n",
    "print(\"a list of multiples :\", multiples)"
   ]
  },
  {
   "cell_type": "markdown",
   "id": "847be9ff",
   "metadata": {},
   "source": [
    "Challenge 2"
   ]
  },
  {
   "cell_type": "code",
   "execution_count": 6,
   "id": "19abbf8c",
   "metadata": {},
   "outputs": [
    {
     "name": "stdout",
     "output_type": "stream",
     "text": [
      "a new string with any duplicate consecutive letters removed : wind\n"
     ]
    }
   ],
   "source": [
    "chain = input(\"Enter a string of characters : \")\n",
    "new_chain = \"\"\n",
    "for i in range(len(chain)):\n",
    "    if i == 0 or chain[i] != chain[i - 1]:\n",
    "        new_chain += chain[i]\n",
    "\n",
    "print(\"a new string with any duplicate consecutive letters removed :\", new_chain)"
   ]
  }
 ],
 "metadata": {
  "kernelspec": {
   "display_name": "Python 3",
   "language": "python",
   "name": "python3"
  },
  "language_info": {
   "codemirror_mode": {
    "name": "ipython",
    "version": 3
   },
   "file_extension": ".py",
   "mimetype": "text/x-python",
   "name": "python",
   "nbconvert_exporter": "python",
   "pygments_lexer": "ipython3",
   "version": "3.11.9"
  }
 },
 "nbformat": 4,
 "nbformat_minor": 5
}
