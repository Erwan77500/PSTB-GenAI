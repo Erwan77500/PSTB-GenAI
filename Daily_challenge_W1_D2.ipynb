{
 "cells": [
  {
   "cell_type": "code",
   "execution_count": 1,
   "id": "02be8beb",
   "metadata": {},
   "outputs": [
    {
     "name": "stdout",
     "output_type": "stream",
     "text": [
      "Dictionnaire des lettres et positions : {'d': [0, 2], 'o': [1, 3]}\n"
     ]
    }
   ],
   "source": [
    "def construire_dictionnaire(mot):\n",
    "    \n",
    "    dictionnaire = {}\n",
    "\n",
    "    for index, lettre in enumerate(mot):\n",
    "        if lettre in dictionnaire:\n",
    "            dictionnaire[lettre].append(index)\n",
    "        else:\n",
    "            dictionnaire[lettre] = [index]\n",
    "\n",
    "    return dictionnaire\n",
    "\n",
    "\n",
    "# Demander à l'utilisateur de saisir un mot\n",
    "mot_utilisateur = input(\"Veuillez entrer un mot : \")\n",
    "\n",
    "# Appel de la fonction pour construire le dictionnaire et afficher le résultat\n",
    "resultat = construire_dictionnaire(mot_utilisateur)\n",
    "\n",
    "print(\"Dictionnaire des lettres et positions :\", resultat)"
   ]
  }
 ],
 "metadata": {
  "kernelspec": {
   "display_name": "Python 3",
   "language": "python",
   "name": "python3"
  },
  "language_info": {
   "codemirror_mode": {
    "name": "ipython",
    "version": 3
   },
   "file_extension": ".py",
   "mimetype": "text/x-python",
   "name": "python",
   "nbconvert_exporter": "python",
   "pygments_lexer": "ipython3",
   "version": "3.11.9"
  }
 },
 "nbformat": 4,
 "nbformat_minor": 5
}
