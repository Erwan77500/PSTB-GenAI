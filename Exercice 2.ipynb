{
 "cells": [
  {
   "cell_type": "code",
   "execution_count": 3,
   "id": "e7d96f7c",
   "metadata": {},
   "outputs": [
    {
     "name": "stdout",
     "output_type": "stream",
     "text": [
      "[10, 56, 64]\n",
      "[1, 15, 15]\n",
      "[2, 24, 24]\n"
     ]
    }
   ],
   "source": [
    "def calculate_pet_years(human_years):\n",
    "    if human_years == 1:\n",
    "        cat_years = 15\n",
    "        dog_years = 15\n",
    "    elif human_years == 2:\n",
    "        cat_years = 15 + 9\n",
    "        dog_years = 15 + 9\n",
    "    else:\n",
    "        cat_years = 15 + 9 + (human_years - 2) * 4\n",
    "        dog_years = 15 + 9 + (human_years - 2) * 5\n",
    "\n",
    "    return [human_years, cat_years, dog_years]\n",
    "\n",
    "# Test cases\n",
    "print(calculate_pet_years(10))\n",
    "print(calculate_pet_years(1))\n",
    "print(calculate_pet_years(2))\n"
   ]
  }
 ],
 "metadata": {
  "kernelspec": {
   "display_name": "Python 3",
   "language": "python",
   "name": "python3"
  },
  "language_info": {
   "codemirror_mode": {
    "name": "ipython",
    "version": 3
   },
   "file_extension": ".py",
   "mimetype": "text/x-python",
   "name": "python",
   "nbconvert_exporter": "python",
   "pygments_lexer": "ipython3",
   "version": "3.11.9"
  }
 },
 "nbformat": 4,
 "nbformat_minor": 5
}
