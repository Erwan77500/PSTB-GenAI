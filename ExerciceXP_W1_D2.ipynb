{
 "cells": [
  {
   "cell_type": "markdown",
   "id": "827e6507",
   "metadata": {},
   "source": [
    "Exercice 1"
   ]
  },
  {
   "cell_type": "code",
   "execution_count": null,
   "id": "8cf2bbdd",
   "metadata": {},
   "outputs": [
    {
     "name": "stdout",
     "output_type": "stream",
     "text": [
      "{'Ten': 10, 'Twenty': 20, 'Thirty': 30}\n"
     ]
    }
   ],
   "source": [
    "# Création de 2 listes\n",
    "keys = ['Ten', 'Twenty', 'Thirty']\n",
    "values = [10, 20, 30]\n",
    "# Utilisons la méthode avec la boucle For in range\n",
    "result = {}\n",
    "for i in range(len(keys)):\n",
    "    result[keys[i]] = values[i]\n",
    "print(result)"
   ]
  },
  {
   "cell_type": "markdown",
   "id": "a4590b6a",
   "metadata": {},
   "source": [
    "Exercice 2"
   ]
  },
  {
   "cell_type": "code",
   "execution_count": 11,
   "id": "7573e6e2",
   "metadata": {},
   "outputs": [
    {
     "name": "stdout",
     "output_type": "stream",
     "text": [
      "Rick (43 ans) : 15$\n",
      "Beth (13 ans) : 15$\n",
      "Morty (5 ans) : 10$\n",
      "Summer (8 ans) : 10$\n",
      "\n",
      "Coût total pour la famille : 50$\n"
     ]
    }
   ],
   "source": [
    "# Data family\n",
    "family = {\"rick\": 43, 'beth': 13, 'morty': 5, 'summer': 8}\n",
    "\n",
    "def calculate_ticket_price(age):\n",
    "    if age < 3:\n",
    "        return 0\n",
    "    elif age <= 12:\n",
    "        return 10\n",
    "    else:\n",
    "        return 15\n",
    "\n",
    "# total cost à initialiser\n",
    "total_cost = 0\n",
    "\n",
    "# dictionnaire family\n",
    "for name, age in family.items():\n",
    "    ticket_price = calculate_ticket_price(age)\n",
    "    total_cost += ticket_price\n",
    "    # Affichons le prix pour chaque membre\n",
    "    print(f\"{name.capitalize()} ({age} ans) : {ticket_price}$\")\n",
    "\n",
    "# Affichons le coût total de la famille\n",
    "print(f\"\\nCoût total pour la famille : {total_cost}$\")"
   ]
  },
  {
   "cell_type": "markdown",
   "id": "92850b8c",
   "metadata": {},
   "source": [
    "Exercice 3"
   ]
  },
  {
   "cell_type": "code",
   "execution_count": 14,
   "id": "88a67af1",
   "metadata": {},
   "outputs": [
    {
     "name": "stdout",
     "output_type": "stream",
     "text": [
      "Dictionnaire initial:\n",
      "{'name': 'Zara', 'creation_date': 1975, 'creator_name': 'Amancio Ortega Gaona', 'type_of_clothes': ['men', 'women', 'children', 'home'], 'international_competitors': ['Gap', 'H&M', 'Benetton'], 'number_stores': 7000, 'major_color': {'France': 'blue', 'Spain': 'red', 'US': ['pink', 'green']}}\n",
      "1. Nombre de magasins modifié à 2\n",
      "2. Zara s'adresse aux clients suivants : men, women, children, home\n",
      "3. Pays de création ajouté : Spain\n",
      "4. 'Desigual' ajouté à la liste des concurrents internationaux\n",
      "5. Clé 'creation_date' supprimée\n",
      "6. Dernier concurrent international : Desigual\n",
      "7. Principales couleurs aux États-Unis : pink, green\n",
      "8. Nombre de clés dans le dictionnaire : 7\n",
      "9. Toutes les clés du dictionnaire : name, creator_name, type_of_clothes, international_competitors, number_stores, major_color, country_creation\n",
      "Dictionnaire final:\n",
      "{'name': 'Zara', 'creator_name': 'Amancio Ortega Gaona', 'type_of_clothes': ['men', 'women', 'children', 'home'], 'international_competitors': ['Gap', 'H&M', 'Benetton', 'Desigual'], 'number_stores': 2, 'major_color': {'France': 'blue', 'Spain': 'red', 'US': ['pink', 'green']}, 'country_creation': 'Spain'}\n"
     ]
    }
   ],
   "source": [
    "# Création d'un dictionnaire brand avec les informations sur Zara\n",
    "brand = {\n",
    "    \"name\": \"Zara\",\n",
    "    \"creation_date\": 1975,\n",
    "    \"creator_name\": \"Amancio Ortega Gaona\",\n",
    "    \"type_of_clothes\": [\"men\", \"women\", \"children\", \"home\"],\n",
    "    \"international_competitors\": [\"Gap\", \"H&M\", \"Benetton\"],\n",
    "    \"number_stores\": 7000,\n",
    "    \"major_color\": {\n",
    "        \"France\": \"blue\",\n",
    "        \"Spain\": \"red\",\n",
    "        \"US\": [\"pink\", \"green\"]\n",
    "    }\n",
    "}\n",
    "print(\"Dictionnaire initial:\")\n",
    "print(brand)\n",
    "\n",
    "# 1. Remplaçons la valeur de number_stores par 2\n",
    "brand[\"number_stores\"] = 2\n",
    "print(\"1. Nombre de magasins modifié à 2\")\n",
    "# 2. Imprimons une phrase décrivant les clients de Zara\n",
    "types_clients = \", \".join(brand[\"type_of_clothes\"])\n",
    "print(f\"2. Zara s'adresse aux clients suivants : {types_clients}\")\n",
    "# 3. Ajoutons une nouvelle clé country_creation avec la valeur Spain\n",
    "brand[\"country_creation\"] = \"Spain\"\n",
    "print(\"3. Pays de création ajouté : Spain\")\n",
    "# 4. Vérifions si international_competitors existe et ajoutons \"Desigual\"\n",
    "if \"international_competitors\" in brand:\n",
    "    brand[\"international_competitors\"].append(\"Desigual\")\n",
    "    print(\"4. 'Desigual' ajouté à la liste des concurrents internationaux\")\n",
    "# 5. Supprimons la clé creation_date\n",
    "if \"creation_date\" in brand:\n",
    "    del brand[\"creation_date\"]\n",
    "    print(\"5. Clé 'creation_date' supprimée\")\n",
    "# 6. Imprimons le dernier élément dans international_competitors\n",
    "dernier_concurrent = brand[\"international_competitors\"][-1]\n",
    "print(f\"6. Dernier concurrent international : {dernier_concurrent}\")\n",
    "# 7. Imprimons les principales couleurs aux États-Unis\n",
    "couleurs_us = brand[\"major_color\"][\"US\"]\n",
    "print(f\"7. Principales couleurs aux États-Unis : {', '.join(couleurs_us)}\")\n",
    "# 8. Imprimons le nombre de clés dans le dictionnaire\n",
    "nombre_cles = len(brand)\n",
    "print(f\"8. Nombre de clés dans le dictionnaire : {nombre_cles}\")\n",
    "# 9. Imprimons toutes les clés du dictionnaire\n",
    "cles = list(brand.keys())\n",
    "print(f\"9. Toutes les clés du dictionnaire : {', '.join(cles)}\")\n",
    "\n",
    "print(\"Dictionnaire final:\")\n",
    "print(brand)"
   ]
  },
  {
   "cell_type": "markdown",
   "id": "521e5f06",
   "metadata": {},
   "source": [
    "Exercice 4"
   ]
  },
  {
   "cell_type": "code",
   "execution_count": 4,
   "id": "663115be",
   "metadata": {},
   "outputs": [
    {
     "name": "stdout",
     "output_type": "stream",
     "text": [
      "\n",
      "Reykjavik is in Iceland.\n",
      "Paris is in Inconnu.\n",
      "Tokyo is in Japan.\n",
      "London is in United Kingdom.\n",
      "Sydney is in Inconnu.\n",
      "New York is in United States.\n",
      "\n",
      "Berlin is in Germany.\n",
      "Madrid is in Spain.\n"
     ]
    }
   ],
   "source": [
    "# Définons la fonction avec les paramètres\n",
    "def describe_city(city, country=\"Inconnu\"):\n",
    "    \"\"\"\n",
    "    Fonction qui décrit une ville et son pays\n",
    "    \n",
    "    Paramètres:\n",
    "    - city: nom de la ville (obligatoire)\n",
    "    - country: nom du pays (optionnel, valeur par défaut: \"Inconnu\")\n",
    "    \"\"\"\n",
    "    \n",
    "    # Imprimons le message\n",
    "    print(f\"{city} is in {country}.\")\n",
    "\n",
    "print()\n",
    "\n",
    "# Appelons avec ville et pays\n",
    "describe_city(\"Reykjavik\", \"Iceland\")\n",
    "\n",
    "# Appelons seulement la ville\n",
    "describe_city(\"Paris\")\n",
    "\n",
    "# Autres exemples\n",
    "describe_city(\"Tokyo\", \"Japan\")\n",
    "describe_city(\"London\", \"United Kingdom\")\n",
    "describe_city(\"Sydney\")  # Utilise la valeur par défaut\n",
    "describe_city(\"New York\", \"United States\")\n",
    "print()\n",
    "describe_city(city=\"Berlin\", country=\"Germany\")\n",
    "describe_city(country=\"Spain\", city=\"Madrid\")"
   ]
  },
  {
   "cell_type": "markdown",
   "id": "cd765a05",
   "metadata": {},
   "source": [
    "Exercice 5"
   ]
  },
  {
   "cell_type": "code",
   "execution_count": 19,
   "id": "1b404391",
   "metadata": {},
   "outputs": [
    {
     "name": "stdout",
     "output_type": "stream",
     "text": [
      "=== Jeu de Comparaison de Nombres Aléatoires ===\n",
      "\n",
      "❌ Dommage, ce n'est pas le bon nombre.\n",
      "Votre nombre : 42\n",
      "Nombre aléatoire : 64\n",
      "\n",
      "🎉 Félicitations ! Vous avez trouvé le bon nombre !\n",
      "Les deux nombres sont identiques : 73\n",
      "\n",
      "❌ Dommage, ce n'est pas le bon nombre.\n",
      "Votre nombre : 15\n",
      "Nombre aléatoire : 33\n",
      "\n",
      "=== Version Interactive ===\n",
      "❌ Dommage, ce n'est pas le bon nombre.\n",
      "Votre nombre : 80\n",
      "Nombre aléatoire : 77\n"
     ]
    }
   ],
   "source": [
    "# Étape 1 : Importer le module random\n",
    "import random\n",
    "\n",
    "# Étape 2 : Définir une fonction avec un paramètre\n",
    "def comparer_nombres(nombre_utilisateur):\n",
    "    \"\"\"\n",
    "    Compare un nombre donné par l'utilisateur avec un nombre généré aléatoirement.\n",
    "    \n",
    "    Args:\n",
    "        nombre_utilisateur (int): Un nombre entre 1 et 100\n",
    "    \"\"\"\n",
    "    # Vérifier que le nombre est dans la plage valide\n",
    "    if not 1 <= nombre_utilisateur <= 100:\n",
    "        print(\"Erreur : Le nombre doit être compris entre 1 et 100!\")\n",
    "        return\n",
    "    \n",
    "    # Étape 3 : Générer un nombre aléatoire\n",
    "    nombre_aleatoire = random.randint(1, 100)\n",
    "    \n",
    "    # Étape 4 : Comparer les chiffres\n",
    "    if nombre_utilisateur == nombre_aleatoire:\n",
    "        print(\"🎉 Félicitations ! Vous avez trouvé le bon nombre !\")\n",
    "        print(f\"Les deux nombres sont identiques : {nombre_utilisateur}\")\n",
    "    else:\n",
    "        print(\"❌ Dommage, ce n'est pas le bon nombre.\")\n",
    "        print(f\"Votre nombre : {nombre_utilisateur}\")\n",
    "        print(f\"Nombre aléatoire : {nombre_aleatoire}\")\n",
    "\n",
    "# Étape 5 : Appeler la fonction\n",
    "if __name__ == \"__main__\":\n",
    "    # Exemple d'appels de la fonction\n",
    "    print(\"=== Jeu de Comparaison de Nombres Aléatoires ===\\n\")\n",
    "    \n",
    "    # Appel avec différents nombres\n",
    "    comparer_nombres(42)\n",
    "    print()\n",
    "    comparer_nombres(73)\n",
    "    print()\n",
    "    comparer_nombres(15)\n",
    "    print()\n",
    "    \n",
    "    print(\"=== Version Interactive ===\")\n",
    "    try:\n",
    "        nombre_choisi = int(input(\"Entrez un nombre entre 1 et 100 : \"))\n",
    "        comparer_nombres(nombre_choisi)\n",
    "    except ValueError:\n",
    "        print(\"Veuillez entrer un nombre valide!\")"
   ]
  },
  {
   "cell_type": "markdown",
   "id": "e79814d8",
   "metadata": {},
   "source": [
    "Exercice 6"
   ]
  },
  {
   "cell_type": "code",
   "execution_count": 29,
   "id": "8031309a",
   "metadata": {},
   "outputs": [
    {
     "name": "stdout",
     "output_type": "stream",
     "text": [
      "Appelons la fonction de base\n",
      "The size of the shirt is medium and the text is Hello World!.\n",
      "The size of the shirt is small and the text is Python is awesome!.\n",
      "Utilisation des valeurs par défaut\n",
      "The size of the shirt is large and the text is I love Python.\n",
      "The size of the shirt is medium and the text is I love Python.\n",
      "The size of the shirt is small and the text is Custom message.\n",
      "Arguments de mots-clés\n",
      "The size of the shirt is small and the text is Hello!.\n",
      "The size of the shirt is extra large and the text is Python rocks!.\n",
      "The size of the shirt is medium and the text is Learning Python.\n",
      "The size of the shirt is large and the text is Custom text with default size.\n",
      "The size of the shirt is extra small and the text is I love Python.\n"
     ]
    }
   ],
   "source": [
    "# Définissons la fonction une seule fois avec les valeurs par défaut\n",
    "def make_shirt(size=\"large\", text=\"I love Python\"):\n",
    "    \"\"\"Fonction pour décrire la taille et le message d'une chemise avec valeurs par défaut\"\"\"\n",
    "    print(f\"The size of the shirt is {size} and the text is {text}.\")\n",
    "\n",
    "# Appelons la fonction (maintenant avec la version finale)\n",
    "print(\"Appelons la fonction de base\")\n",
    "make_shirt(\"medium\", \"Hello World!\")\n",
    "make_shirt(\"small\", \"Python is awesome!\")\n",
    "\n",
    "# Appelons la fonction avec des valeurs par défaut et personnalisées\n",
    "print(\"Utilisation des valeurs par défaut\")\n",
    "\n",
    "# Grande chemise avec le message par défaut\n",
    "make_shirt()\n",
    "\n",
    "# Chemise moyenne avec le message par défaut\n",
    "make_shirt(\"medium\")\n",
    "\n",
    "# Chemise de n'importe quelle taille avec un message différent\n",
    "make_shirt(\"small\", \"Custom message\")\n",
    "\n",
    "# Étape 6 : Arguments de mots-clés\n",
    "print(\"Arguments de mots-clés\")\n",
    "\n",
    "# Utilisation d'arguments nommés\n",
    "make_shirt(size=\"small\", text=\"Hello!\")\n",
    "make_shirt(text=\"Python rocks!\", size=\"extra large\")\n",
    "\n",
    "# Mélange d'arguments\n",
    "make_shirt(\"medium\", text=\"Learning Python\")\n",
    "\n",
    "# Seulement un argument nommé\n",
    "make_shirt(text=\"Custom text with default size\")\n",
    "make_shirt(size=\"extra small\")"
   ]
  },
  {
   "cell_type": "markdown",
   "id": "3a23ab6a",
   "metadata": {},
   "source": [
    "Exercice 7"
   ]
  },
  {
   "cell_type": "code",
   "execution_count": 32,
   "id": "0dab1a05",
   "metadata": {},
   "outputs": [
    {
     "name": "stdout",
     "output_type": "stream",
     "text": [
      "Conseils Météo\n",
      "\n",
      "1. Version de base :\n",
      "La température actuelle est de 36 degrés Celsius.\n",
      "Il fait vraiment chaud ! Restez au frais.\n",
      "\n",
      "--------------------------------------------------\n",
      "\n",
      "2. Version avec température précise :\n",
      "La température actuelle est de 36.6 degrés Celsius.\n",
      "Il fait vraiment chaud ! Restez au frais.\n",
      "\n",
      "--------------------------------------------------\n",
      "\n",
      "3. Version avec saisons :\n"
     ]
    },
    {
     "name": "stdout",
     "output_type": "stream",
     "text": [
      "Saison : Été\n",
      "La température actuelle est de 25.5 degrés Celsius.\n",
      "Un peu chaud, hydratez-vous bien !\n"
     ]
    }
   ],
   "source": [
    "import random\n",
    "def get_random_temp():\n",
    "    \"\"\"Génère une température aléatoire entre -10 et 40 degrés Celsius\"\"\"\n",
    "    return random.randint(-10, 40)\n",
    "\n",
    "def get_random_temp_float():\n",
    "    \"\"\"Version bonus : génère une température à virgule flottante\"\"\"\n",
    "    return round(random.uniform(-10, 40), 1)\n",
    "\n",
    "def get_seasonal_temp(month):\n",
    "    \"\"\"Génère une température basée sur la saison\"\"\"\n",
    "    # Déterminer la saison basée sur le mois\n",
    "    if month in [12, 1, 2]:  # Hiver\n",
    "        return random.uniform(-10, 5)\n",
    "    elif month in [3, 4, 5]:  # Printemps\n",
    "        return random.uniform(5, 20)\n",
    "    elif month in [6, 7, 8]:  # Été\n",
    "        return random.uniform(20, 40)\n",
    "    else:  # Automne (9, 10, 11)\n",
    "        return random.uniform(5, 25)\n",
    "\n",
    "def give_temperature_advice(temp):\n",
    "    \"\"\"Conseils basés sur la température\"\"\"\n",
    "    if temp < 0:\n",
    "        return \"Brrr, c'est glacial ! Portez des couches supplémentaires aujourd'hui.\"\n",
    "    elif 0 <= temp <= 16:\n",
    "        return \"Assez froid ! N'oubliez pas votre manteau.\"\n",
    "    elif 16 < temp <= 23:\n",
    "        return \"Beau temps parfait !\"\n",
    "    elif 24 <= temp <= 32:\n",
    "        return \"Un peu chaud, hydratez-vous bien !\"\n",
    "    else:  # temp > 32\n",
    "        return \"Il fait vraiment chaud ! Restez au frais.\"\n",
    "\n",
    "def main():\n",
    "    \"\"\"Fonction principale du programme\"\"\"\n",
    "    print(\"Conseils Météo\\n\")\n",
    "    \n",
    "    # température entière\n",
    "    print(\"1. Version de base :\")\n",
    "    temp = get_random_temp()\n",
    "    print(f\"La température actuelle est de {temp} degrés Celsius.\")\n",
    "    advice = give_temperature_advice(temp)\n",
    "    print(advice)\n",
    "    \n",
    "    print(\"\\n\" + \"-\"*50 + \"\\n\")\n",
    "    \n",
    "    # bonus avec température à virgule flottante\n",
    "    print(\"2. Version avec température précise :\")\n",
    "    temp_float = get_random_temp_float()\n",
    "    print(f\"La température actuelle est de {temp_float} degrés Celsius.\")\n",
    "    advice_float = give_temperature_advice(temp_float)\n",
    "    print(advice_float)\n",
    "    \n",
    "    print(\"\\n\" + \"-\"*50 + \"\\n\")\n",
    "    \n",
    "    # bonus avec saisons\n",
    "    print(\"3. Version avec saisons :\")\n",
    "    try:\n",
    "        month = int(input(\"Entrez le mois (1-12) : \"))\n",
    "        if 1 <= month <= 12:\n",
    "            seasonal_temp = round(get_seasonal_temp(month), 1)\n",
    "            \n",
    "            # Déterminer le nom de la saison\n",
    "            seasons = {\n",
    "                (12, 1, 2): \"Hiver\",\n",
    "                (3, 4, 5): \"Printemps\", \n",
    "                (6, 7, 8): \"Été\",\n",
    "                (9, 10, 11): \"Automne\"\n",
    "            }\n",
    "            \n",
    "            season_name = \"\"\n",
    "            for months, name in seasons.items():\n",
    "                if month in months:\n",
    "                    season_name = name\n",
    "                    break\n",
    "            \n",
    "            print(f\"Saison : {season_name}\")\n",
    "            print(f\"La température actuelle est de {seasonal_temp} degrés Celsius.\")\n",
    "            seasonal_advice = give_temperature_advice(seasonal_temp)\n",
    "            print(seasonal_advice)\n",
    "        else:\n",
    "            print(\"Veuillez entrer un mois valide (1-12).\")\n",
    "    except ValueError:\n",
    "        print(\"Veuillez entrer un nombre valide.\")\n",
    "\n",
    "# Exécutons le programme\n",
    "if __name__ == \"__main__\":\n",
    "    main()"
   ]
  },
  {
   "cell_type": "markdown",
   "id": "edf3d096",
   "metadata": {},
   "source": [
    "Exercice 8"
   ]
  },
  {
   "cell_type": "code",
   "execution_count": 34,
   "id": "0cffe910",
   "metadata": {},
   "outputs": [
    {
     "name": "stdout",
     "output_type": "stream",
     "text": [
      "Bienvenue dans notre configurateur de pizza !\n",
      "Entrez les garnitures une par une (tapez 'quit' pour terminer)\n",
      "Adding Poivrons to your pizza.\n",
      "Adding Fromages to your pizza.\n",
      "Adding Merguez to your pizza.\n",
      "Adding Piment to your pizza.\n",
      "RÉCAPITULATIF DE VOTRE PIZZA\n",
      "Garnitures choisies :\n",
      "  1. Poivrons\n",
      "  2. Fromages\n",
      "  3. Merguez\n",
      "  4. Piment\n",
      "\n",
      "Prix de base : 10.00 $\n",
      "Garnitures (4 × 2.50 $) : 10.00 $\n",
      "COÛT TOTAL : 20.00 $\n",
      "\n",
      "Merci pour votre commande !\n"
     ]
    }
   ],
   "source": [
    "# Prix de base et prix par garniture\n",
    "prix_base = 10.00\n",
    "prix_garniture = 2.50\n",
    "\n",
    "# Liste pour stocker les garnitures\n",
    "garnitures = []\n",
    "\n",
    "print(\"Bienvenue dans notre configurateur de pizza !\")\n",
    "print(\"Entrez les garnitures une par une (tapez 'quit' pour terminer)\")\n",
    "\n",
    "# Boucle pour demander les garnitures\n",
    "while True:\n",
    "    garniture = input(\"Entrez une garniture : \").strip()\n",
    "    \n",
    "    # Vérifier si l'utilisateur veut quitter\n",
    "    if garniture.lower() == 'quit':\n",
    "        break\n",
    "    \n",
    "    # Ajouter la garniture si elle n'est pas vide\n",
    "    if garniture:\n",
    "        garnitures.append(garniture)\n",
    "        print(f\"Adding {garniture} to your pizza.\")\n",
    "\n",
    "# Affichons le récap\n",
    "print(\"RÉCAPITULATIF DE VOTRE PIZZA\")\n",
    "\n",
    "if garnitures:\n",
    "    print(\"Garnitures choisies :\")\n",
    "    for i, garniture in enumerate(garnitures, 1):\n",
    "        print(f\"  {i}. {garniture}\")\n",
    "else:\n",
    "    print(\"Aucune garniture ajoutée.\")\n",
    "\n",
    "# Calculons et affichons le coût total\n",
    "cout_total = prix_base + (len(garnitures) * prix_garniture)\n",
    "print(f\"\\nPrix de base : {prix_base:.2f} $\")\n",
    "print(f\"Garnitures ({len(garnitures)} × {prix_garniture:.2f} $) : {len(garnitures) * prix_garniture:.2f} $\")\n",
    "print(f\"COÛT TOTAL : {cout_total:.2f} $\")\n",
    "\n",
    "print(\"\\nMerci pour votre commande !\")"
   ]
  }
 ],
 "metadata": {
  "kernelspec": {
   "display_name": "Python 3",
   "language": "python",
   "name": "python3"
  },
  "language_info": {
   "codemirror_mode": {
    "name": "ipython",
    "version": 3
   },
   "file_extension": ".py",
   "mimetype": "text/x-python",
   "name": "python",
   "nbconvert_exporter": "python",
   "pygments_lexer": "ipython3",
   "version": "3.11.9"
  }
 },
 "nbformat": 4,
 "nbformat_minor": 5
}
