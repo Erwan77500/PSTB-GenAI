{
 "cells": [
  {
   "cell_type": "code",
   "execution_count": 8,
   "id": "4fba9645",
   "metadata": {},
   "outputs": [],
   "source": [
    "import math\n",
    "class Pagination:\n",
    "    def __init__(self, items=None, page_size=10):\n",
    "        self.items = items if items is not None else []\n",
    "        self.page_size = page_size\n",
    "        self.current_idx = 0\n",
    "        self.total_pages = math.ceil(len(self.items) / self.page_size)\n",
    "\n",
    "    def get_visible_items(self):\n",
    "        start = self.current_idx * self.page_size\n",
    "        end = start + self.page_size\n",
    "        return self.items[start:end]\n",
    "\n",
    "    def go_to_page(self, page_num):\n",
    "        if page_num < 1 or page_num > self.total_pages:\n",
    "            raise ValueError(\"Page number out of range.\")\n",
    "        self.current_idx = page_num - 1\n",
    "        return self\n",
    "\n",
    "    def first_page(self):\n",
    "        self.current_idx = 0\n",
    "        return self\n",
    "\n",
    "    def last_page(self):\n",
    "        self.current_idx = self.total_pages - 1\n",
    "        return self\n",
    "\n",
    "    def next_page(self):\n",
    "        if self.current_idx < self.total_pages - 1:\n",
    "            self.current_idx += 1\n",
    "        return self\n",
    "\n",
    "    def previous_page(self):\n",
    "        if self.current_idx > 0:\n",
    "            self.current_idx -= 1\n",
    "        return self\n",
    "\n",
    "    def __str__(self):\n",
    "        return '\\n'.join(self.get_visible_items())\n"
   ]
  },
  {
   "cell_type": "code",
   "execution_count": 9,
   "id": "39c39d0f",
   "metadata": {},
   "outputs": [
    {
     "name": "stdout",
     "output_type": "stream",
     "text": [
      "['a', 'b', 'c', 'd']\n"
     ]
    }
   ],
   "source": [
    "alphabetList = list(\"abcdefghijklmnopqrstuvwxyz\")\n",
    "p = Pagination(alphabetList, 4)\n",
    "print(p.get_visible_items())\n",
    "# Résultat attendu : ['a', 'b', 'c', 'd']\n"
   ]
  },
  {
   "cell_type": "code",
   "execution_count": 10,
   "id": "70d03d1b",
   "metadata": {},
   "outputs": [
    {
     "name": "stdout",
     "output_type": "stream",
     "text": [
      "['e', 'f', 'g', 'h']\n"
     ]
    }
   ],
   "source": [
    "p.next_page()\n",
    "print(p.get_visible_items())\n",
    "# Résultat attendu : ['e', 'f', 'g', 'h']\n"
   ]
  },
  {
   "cell_type": "code",
   "execution_count": 11,
   "id": "4c7efec0",
   "metadata": {},
   "outputs": [
    {
     "name": "stdout",
     "output_type": "stream",
     "text": [
      "['y', 'z']\n"
     ]
    }
   ],
   "source": [
    "p.last_page()\n",
    "print(p.get_visible_items())\n",
    "# Résultat attendu : ['y', 'z']\n"
   ]
  },
  {
   "cell_type": "code",
   "execution_count": 12,
   "id": "59c8a69d",
   "metadata": {},
   "outputs": [
    {
     "ename": "ValueError",
     "evalue": "Page number out of range.",
     "output_type": "error",
     "traceback": [
      "\u001b[31m---------------------------------------------------------------------------\u001b[39m",
      "\u001b[31mValueError\u001b[39m                                Traceback (most recent call last)",
      "\u001b[36mCell\u001b[39m\u001b[36m \u001b[39m\u001b[32mIn[12]\u001b[39m\u001b[32m, line 1\u001b[39m\n\u001b[32m----> \u001b[39m\u001b[32m1\u001b[39m \u001b[43mp\u001b[49m\u001b[43m.\u001b[49m\u001b[43mgo_to_page\u001b[49m\u001b[43m(\u001b[49m\u001b[32;43m10\u001b[39;49m\u001b[43m)\u001b[49m\n\u001b[32m      2\u001b[39m \u001b[38;5;28mprint\u001b[39m(p.current_idx + \u001b[32m1\u001b[39m)\n\u001b[32m      3\u001b[39m \u001b[38;5;66;03m# Résultat attendu : 7 (car total_pages = 7)\u001b[39;00m\n",
      "\u001b[36mCell\u001b[39m\u001b[36m \u001b[39m\u001b[32mIn[8]\u001b[39m\u001b[32m, line 16\u001b[39m, in \u001b[36mPagination.go_to_page\u001b[39m\u001b[34m(self, page_num)\u001b[39m\n\u001b[32m     14\u001b[39m \u001b[38;5;28;01mdef\u001b[39;00m\u001b[38;5;250m \u001b[39m\u001b[34mgo_to_page\u001b[39m(\u001b[38;5;28mself\u001b[39m, page_num):\n\u001b[32m     15\u001b[39m     \u001b[38;5;28;01mif\u001b[39;00m page_num < \u001b[32m1\u001b[39m \u001b[38;5;129;01mor\u001b[39;00m page_num > \u001b[38;5;28mself\u001b[39m.total_pages:\n\u001b[32m---> \u001b[39m\u001b[32m16\u001b[39m         \u001b[38;5;28;01mraise\u001b[39;00m \u001b[38;5;167;01mValueError\u001b[39;00m(\u001b[33m\"\u001b[39m\u001b[33mPage number out of range.\u001b[39m\u001b[33m\"\u001b[39m)\n\u001b[32m     17\u001b[39m     \u001b[38;5;28mself\u001b[39m.current_idx = page_num - \u001b[32m1\u001b[39m\n\u001b[32m     18\u001b[39m     \u001b[38;5;28;01mreturn\u001b[39;00m \u001b[38;5;28mself\u001b[39m\n",
      "\u001b[31mValueError\u001b[39m: Page number out of range."
     ]
    }
   ],
   "source": [
    "p.go_to_page(10)\n",
    "print(p.current_idx + 1)\n",
    "# Résultat attendu : 7 (car total_pages = 7)\n"
   ]
  },
  {
   "cell_type": "code",
   "execution_count": null,
   "id": "0f29c641",
   "metadata": {},
   "outputs": [
    {
     "name": "stdout",
     "output_type": "stream",
     "text": [
      "Erreur attrapée : Page number out of range.\n"
     ]
    }
   ],
   "source": [
    "try:\n",
    "    p.go_to_page(0)\n",
    "except ValueError as e:\n",
    "    print(\"Erreur attrapée :\", e)\n",
    "\n"
   ]
  }
 ],
 "metadata": {
  "kernelspec": {
   "display_name": "Python 3",
   "language": "python",
   "name": "python3"
  },
  "language_info": {
   "codemirror_mode": {
    "name": "ipython",
    "version": 3
   },
   "file_extension": ".py",
   "mimetype": "text/x-python",
   "name": "python",
   "nbconvert_exporter": "python",
   "pygments_lexer": "ipython3",
   "version": "3.11.9"
  }
 },
 "nbformat": 4,
 "nbformat_minor": 5
}
