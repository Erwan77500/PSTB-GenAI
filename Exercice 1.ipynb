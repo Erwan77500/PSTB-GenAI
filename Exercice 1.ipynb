{
 "cells": [
  {
   "cell_type": "code",
   "execution_count": 27,
   "id": "b77f39c1",
   "metadata": {},
   "outputs": [
    {
     "name": "stdout",
     "output_type": "stream",
     "text": [
      "Hello world\n"
     ]
    }
   ],
   "source": [
    "first = \"Hello world\"\n",
    "print (first)"
   ]
  },
  {
   "cell_type": "markdown",
   "id": "69558984",
   "metadata": {},
   "source": [
    "I AM A COMPUTER!"
   ]
  },
  {
   "cell_type": "code",
   "execution_count": 3,
   "id": "3ae92720",
   "metadata": {},
   "outputs": [
    {
     "name": "stdout",
     "output_type": "stream",
     "text": [
      "1242 Math is fun.\n"
     ]
    }
   ],
   "source": [
    "a = 5\n",
    "b = 30\n",
    "\n",
    "if a < 15 and b > 18:\n",
    "    print(\"1242 Math is fun.\")"
   ]
  },
  {
   "cell_type": "code",
   "execution_count": 5,
   "id": "1a6855b7",
   "metadata": {},
   "outputs": [],
   "source": [
    "nope = None"
   ]
  },
  {
   "cell_type": "code",
   "execution_count": 8,
   "id": "43a26c2b",
   "metadata": {},
   "outputs": [
    {
     "name": "stdout",
     "output_type": "stream",
     "text": [
      "False\n"
     ]
    }
   ],
   "source": [
    "c = True and False\n",
    "print(c)\n",
    "#Je ne suis pas sûr d'avoir compris l'étape 6, combiner une valeur true and false, le résultat sera forcement false"
   ]
  },
  {
   "cell_type": "code",
   "execution_count": 9,
   "id": "815c66fd",
   "metadata": {},
   "outputs": [
    {
     "name": "stdout",
     "output_type": "stream",
     "text": [
      "17\n"
     ]
    }
   ],
   "source": [
    "d = \"What's my length?\"\n",
    "longueur = len(d)\n",
    "print (longueur)"
   ]
  },
  {
   "cell_type": "code",
   "execution_count": 11,
   "id": "29e1406b",
   "metadata": {},
   "outputs": [
    {
     "data": {
      "text/plain": [
       "'I AM SHOUTING'"
      ]
     },
     "execution_count": 11,
     "metadata": {},
     "output_type": "execute_result"
    }
   ],
   "source": [
    "e = \"I am shouting\"\n",
    "majuscule = e.upper()\n",
    "majuscule"
   ]
  },
  {
   "cell_type": "code",
   "execution_count": 12,
   "id": "b8a08fcc",
   "metadata": {},
   "outputs": [
    {
     "name": "stdout",
     "output_type": "stream",
     "text": [
      "1000\n"
     ]
    }
   ],
   "source": [
    "f = \"1000\"\n",
    "nb = int(f)\n",
    "print(f)"
   ]
  },
  {
   "cell_type": "code",
   "execution_count": 13,
   "id": "ef203ca4",
   "metadata": {},
   "outputs": [
    {
     "name": "stdout",
     "output_type": "stream",
     "text": [
      "4real\n"
     ]
    }
   ],
   "source": [
    "nb2 = 4\n",
    "txt = \"real\"\n",
    "result = str(nb2) + txt\n",
    "print(result)"
   ]
  },
  {
   "cell_type": "code",
   "execution_count": 14,
   "id": "b4c74953",
   "metadata": {},
   "outputs": [
    {
     "data": {
      "text/plain": [
       "'coolcoolcool'"
      ]
     },
     "execution_count": 14,
     "metadata": {},
     "output_type": "execute_result"
    }
   ],
   "source": [
    "result2 = 3*\"cool\"\n",
    "result2"
   ]
  },
  {
   "cell_type": "code",
   "execution_count": 16,
   "id": "5904cd97",
   "metadata": {},
   "outputs": [
    {
     "ename": "ZeroDivisionError",
     "evalue": "division by zero",
     "output_type": "error",
     "traceback": [
      "\u001b[31m---------------------------------------------------------------------------\u001b[39m",
      "\u001b[31mZeroDivisionError\u001b[39m                         Traceback (most recent call last)",
      "\u001b[36mCell\u001b[39m\u001b[36m \u001b[39m\u001b[32mIn[16]\u001b[39m\u001b[32m, line 1\u001b[39m\n\u001b[32m----> \u001b[39m\u001b[32m1\u001b[39m result3 = \u001b[32;43m1\u001b[39;49m\u001b[43m/\u001b[49m\u001b[32;43m0\u001b[39;49m\n\u001b[32m      2\u001b[39m \u001b[38;5;28mprint\u001b[39m(result3)\n\u001b[32m      3\u001b[39m \u001b[38;5;66;03m#division par zéro impossible, le résultat sera en erreur\u001b[39;00m\n",
      "\u001b[31mZeroDivisionError\u001b[39m: division by zero"
     ]
    }
   ],
   "source": [
    "result3 = 1/0\n",
    "print(result3)\n",
    "#division par zéro impossible, le résultat sera en erreur"
   ]
  },
  {
   "cell_type": "markdown",
   "id": "0bdee560",
   "metadata": {},
   "source": [
    "Déterminez le type de .[]\n",
    "Je ne suis pas sûr d'avoir compris cette étape.\n",
    "Crochet pour renseigner une liste de valeur à assigner à une variable ?"
   ]
  },
  {
   "cell_type": "code",
   "execution_count": 17,
   "id": "cd3172eb",
   "metadata": {},
   "outputs": [
    {
     "data": {
      "text/plain": [
       "'NKONGO'"
      ]
     },
     "execution_count": 17,
     "metadata": {},
     "output_type": "execute_result"
    }
   ],
   "source": [
    "name = input(\"Votre nom ?\")\n",
    "name"
   ]
  },
  {
   "cell_type": "code",
   "execution_count": 21,
   "id": "5cf1c121",
   "metadata": {},
   "outputs": [
    {
     "name": "stdout",
     "output_type": "stream",
     "text": [
      "Vous avez choisi 0!\n"
     ]
    }
   ],
   "source": [
    "nb3 = float(input(\"Entrez votre nombre : \"))\n",
    "if nb3 < 0:\n",
    "    print(\"Votre nombre est inférieur à 0!\")\n",
    "elif nb3 > 0:\n",
    "    print(\"Votre nombre est supérieur à 0!\")\n",
    "else:\n",
    "    print(\"Vous avez choisi 0!\")"
   ]
  },
  {
   "cell_type": "code",
   "execution_count": 22,
   "id": "3208d005",
   "metadata": {},
   "outputs": [
    {
     "name": "stdout",
     "output_type": "stream",
     "text": [
      "3\n"
     ]
    }
   ],
   "source": [
    "fruit = \"apple\"\n",
    "indice = fruit.index(\"l\")\n",
    "print(indice)"
   ]
  },
  {
   "cell_type": "code",
   "execution_count": 23,
   "id": "3974c560",
   "metadata": {},
   "outputs": [
    {
     "name": "stdout",
     "output_type": "stream",
     "text": [
      "Oui, y est dans le xylophone\n"
     ]
    }
   ],
   "source": [
    "mot3 = \"xylophone\"\n",
    "if \"y\" in mot3:\n",
    "    print(\"Oui, y est dans le xylophone\")\n",
    "else:\n",
    "    print(\"Non, y n'est pas dans le xylophone\")"
   ]
  },
  {
   "cell_type": "code",
   "execution_count": 26,
   "id": "f38ebe27",
   "metadata": {},
   "outputs": [
    {
     "name": "stdout",
     "output_type": "stream",
     "text": [
      "La chaîne est entièrement en minuscules.\n"
     ]
    }
   ],
   "source": [
    "f = \"my_string\"\n",
    "if f.islower():\n",
    "    print(\"La chaîne est entièrement en minuscules.\")\n",
    "else:\n",
    "    print(\"La chaîne contient des majuscules ou d'autres caractères.\")"
   ]
  }
 ],
 "metadata": {
  "kernelspec": {
   "display_name": "Python 3",
   "language": "python",
   "name": "python3"
  },
  "language_info": {
   "codemirror_mode": {
    "name": "ipython",
    "version": 3
   },
   "file_extension": ".py",
   "mimetype": "text/x-python",
   "name": "python",
   "nbconvert_exporter": "python",
   "pygments_lexer": "ipython3",
   "version": "3.11.9"
  }
 },
 "nbformat": 4,
 "nbformat_minor": 5
}
