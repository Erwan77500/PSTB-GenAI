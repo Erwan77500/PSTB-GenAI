{
 "cells": [
  {
   "cell_type": "markdown",
   "id": "e39317ec",
   "metadata": {},
   "source": [
    "Exercice 1"
   ]
  },
  {
   "cell_type": "code",
   "execution_count": 3,
   "id": "fd49b8ec",
   "metadata": {},
   "outputs": [
    {
     "name": "stdout",
     "output_type": "stream",
     "text": [
      "Hello world\n",
      "Hello world\n",
      "Hello world\n",
      "Hello world\n"
     ]
    }
   ],
   "source": [
    "# Utiliser la formule ci-dessous pour répéter Hello world sur 4 lignes\n",
    "print(\"Hello world\\n\" * 4, end=\"\")"
   ]
  },
  {
   "cell_type": "markdown",
   "id": "4ce7e2a6",
   "metadata": {},
   "source": [
    "Exercice 2"
   ]
  },
  {
   "cell_type": "code",
   "execution_count": null,
   "id": "4f5529c3",
   "metadata": {},
   "outputs": [
    {
     "name": "stdout",
     "output_type": "stream",
     "text": [
      "99^3 = 970299\n",
      "970299 * 8 = 7762392\n"
     ]
    }
   ],
   "source": [
    "# Calculons étape par étape pour plus de clarté\n",
    "puissance = 99**3\n",
    "print(f\"99^3 = {puissance}\")\n",
    "print(f\"{puissance} * 8 = {puissance * 8}\")"
   ]
  },
  {
   "cell_type": "markdown",
   "id": "b742b9b9",
   "metadata": {},
   "source": [
    "Exercice 3"
   ]
  },
  {
   "cell_type": "code",
   "execution_count": 1,
   "id": "3ba89f65",
   "metadata": {},
   "outputs": [
    {
     "name": "stdout",
     "output_type": "stream",
     "text": [
      "Salut Erwan ! 👋\n",
      "Moi c'est Claude, ravi de faire votre connaissance !\n",
      "Nos noms sont différents, mais c'est ce qui rend notre rencontre unique ! 🌟\n",
      "'Erwan' est un très joli nom ! 💫\n"
     ]
    }
   ],
   "source": [
    "# Demander le nom à l'utilisateur\n",
    "nom_utilisateur = input(\"Quel est votre nom ? \")\n",
    "\n",
    "# Mon nom (Claude)\n",
    "mon_nom = \"Claude\"\n",
    "\n",
    "# Comparer les noms (insensible à la casse)\n",
    "if nom_utilisateur.lower() == mon_nom.lower():\n",
    "    print(f\"🎉 Incroyable ! Nous avons le même nom : {nom_utilisateur} !\")\n",
    "    print(\"Quelle coïncidence extraordinaire ! Nous formons une équipe de Claudes ! 🤖✨\")\n",
    "    print(\"Attention, il risque d'y avoir de la confusion dans cette conversation ! 😄\")\n",
    "else:\n",
    "    print(f\"Salut {nom_utilisateur} ! 👋\")\n",
    "    print(f\"Moi c'est {mon_nom}, ravi de faire votre connaissance !\")\n",
    "    print(\"Nos noms sont différents, mais c'est ce qui rend notre rencontre unique ! 🌟\")\n",
    "    \n",
    "    # Message spécial pour certains noms\n",
    "    if len(nom_utilisateur) == len(mon_nom):\n",
    "        print(\"Nos noms ont au moins la même longueur, c'est déjà ça ! 📏\")\n",
    "    elif nom_utilisateur.lower().startswith('c'):\n",
    "        print(\"Hey, nos noms commencent par la même lettre ! C'est un bon début ! 🔤\")\n",
    "    else:\n",
    "        print(f\"'{nom_utilisateur}' est un très joli nom ! 💫\")"
   ]
  },
  {
   "cell_type": "code",
   "execution_count": null,
   "id": "4942924d",
   "metadata": {},
   "outputs": [
    {
     "name": "stdout",
     "output_type": "stream",
     "text": [
      "Salut Nicolas ! 👋\n",
      "Moi c'est Erwan, nice to meet you !!!\n",
      "Nos noms sont différents, mais c'est ce qui rend notre rencontre unique ! 🌟\n",
      "'Nicolas' est pas mal comme nom aussi ! 💫\n"
     ]
    }
   ],
   "source": [
    "# Demander le nom à l'utilisateur\n",
    "nom_utilisateur = input(\"Quel est votre nom ? \")\n",
    "\n",
    "# Définir une variable avec mon prénom (Erwan)\n",
    "mon_nom = \"Erwan\"\n",
    "\n",
    "# Comparer les noms\n",
    "if nom_utilisateur.lower() == mon_nom.lower():\n",
    "    print(f\"🎉 Incroyable ! Nous avons le même nom : {nom_utilisateur} !\")\n",
    "    print(\"Quelle coïncidence extraordinaire ! Nous formons une équipe d'Erwan ! 🤖✨\")\n",
    "    print(\"Attention, il risque d'y avoir de la confusion dans cette conversation ! 😄\")\n",
    "else:\n",
    "    print(f\"Salut {nom_utilisateur} ! 👋\")\n",
    "    print(f\"Moi c'est {mon_nom}, nice to meet you !!!\")\n",
    "    print(\"Nos noms sont différents, mais c'est ce qui rend notre rencontre unique ! 🌟\")\n",
    "    \n",
    "    # Message spécial pour certains noms\n",
    "    if len(nom_utilisateur) == len(mon_nom):\n",
    "        print(\"Nos noms ont au moins la même longueur, c'est déjà ça ! 📏\")\n",
    "    else:\n",
    "        print(f\"'{nom_utilisateur}' est pas mal comme nom aussi ! 💫\")"
   ]
  },
  {
   "cell_type": "markdown",
   "id": "29ed2fd4",
   "metadata": {},
   "source": [
    "Exercice 4"
   ]
  },
  {
   "cell_type": "code",
   "execution_count": 5,
   "id": "4ab584e7",
   "metadata": {},
   "outputs": [
    {
     "name": "stdout",
     "output_type": "stream",
     "text": [
      "😔 Désolé, vous avez besoin de grandir et de manger un peu plus pour rouler.\n",
      "Il vous faut encore 15 cm pour atteindre la taille minimum.\n",
      "Patience, vous y arriverez bientôt ! 🌱\n"
     ]
    }
   ],
   "source": [
    "# Demander la taille à l'utilisateur\n",
    "taille = int(input(\"Quelle est votre taille en centimètres ? \"))\n",
    "\n",
    "# Vérifions si la taille est suffisante pour rouler\n",
    "taille_minimum = 145\n",
    "\n",
    "if taille > taille_minimum:\n",
    "    print(\"🎢 Fantastique ! Vous êtes assez grand(e) pour rouler rouler !\")\n",
    "    print(\"Amusez-vous bien et attachez votre ceinture, on décolle !!! 🎠\")\n",
    "else:\n",
    "    print(\"😔 Désolé, vous avez besoin de grandir et de manger un peu plus pour rouler.\")\n",
    "    print(f\"Il vous faut encore {taille_minimum - taille} cm pour atteindre la taille minimum.\")\n",
    "    print(\"Patience, vous y arriverez bientôt ! 🌱\")"
   ]
  },
  {
   "cell_type": "markdown",
   "id": "5b933d2a",
   "metadata": {},
   "source": [
    "Exercice 5"
   ]
  },
  {
   "cell_type": "code",
   "execution_count": 7,
   "id": "93274484",
   "metadata": {},
   "outputs": [
    {
     "name": "stdout",
     "output_type": "stream",
     "text": [
      "Mes numéros préférés initiaux sont : {33, 18, 5, 38, 8}\n",
      "Après avoir ajouté 17 et 88 : {33, 18, 5, 38, 8, 90, 11}\n",
      "Après avoir supprimé 90 : {33, 18, 5, 38, 8, 11}\n",
      "Numéros préférés de ma little princesse : {35, 20, 40, 12, 30}\n",
      "Nos numéros préférés combinés : {33, 35, 5, 38, 8, 40, 11, 12, 18, 20, 30}\n"
     ]
    }
   ],
   "source": [
    "# Créons un set avec mes numéros préférés\n",
    "my_fav_numbers = {5, 8, 18, 33, 38}\n",
    "print(\"Mes numéros préférés initiaux sont :\", my_fav_numbers)\n",
    "\n",
    "# Ajoutons deux nouveaux numéros à notre ensemble\n",
    "my_fav_numbers.add(11)\n",
    "my_fav_numbers.add(90)\n",
    "print(\"Après avoir ajouté 17 et 88 :\", my_fav_numbers)\n",
    "\n",
    "# Supprimons le dernier numéro ajouté (90)\n",
    "my_fav_numbers.remove(90)\n",
    "print(\"Après avoir supprimé 90 :\", my_fav_numbers)\n",
    "\n",
    "# Créons un set avec les numéros préférés de ma princesse\n",
    "friend_fav_numbers = {12, 20, 30, 35, 40}\n",
    "print(\"Numéros préférés de ma little princesse :\", friend_fav_numbers)\n",
    "\n",
    "# Concaténation pour créer la variable our_fav_number et éliminer les doublons\n",
    "# L'union des ensembles élimine automatiquement les doublons\n",
    "our_fav_numbers = my_fav_numbers.union(friend_fav_numbers)\n",
    "print(\"Nos numéros préférés combinés :\", our_fav_numbers)"
   ]
  },
  {
   "cell_type": "markdown",
   "id": "f883c35a",
   "metadata": {},
   "source": [
    "Exercice 6"
   ]
  },
  {
   "cell_type": "code",
   "execution_count": 10,
   "id": "c79eb922",
   "metadata": {},
   "outputs": [
    {
     "name": "stdout",
     "output_type": "stream",
     "text": [
      "Tuple original : (1, 2, 3, 4, 5)\n",
      "Type : <class 'tuple'>\n",
      "\n",
      "Conversion temporaire en liste :\n",
      "Original : (1, 2, 3, 4, 5)\n",
      "Nouveau  : (1, 2, 3, 4, 5, 8, 9, 10)\n"
     ]
    }
   ],
   "source": [
    "# Les tuples sont des données imuables, ils garantissent que les données ne changent pas accidentellement\n",
    "mon_tuple = (1, 2, 3, 4, 5)\n",
    "print(\"Tuple original :\", mon_tuple)\n",
    "print(\"Type :\", type(mon_tuple))\n",
    "#  Conversion en liste, modification, puis reconversion\n",
    "print(\"\\nConversion temporaire en liste :\")\n",
    "liste_temp = list(mon_tuple)\n",
    "liste_temp.append(8)\n",
    "liste_temp.extend([9, 10])\n",
    "nouveau_tuple2 = tuple(liste_temp)\n",
    "print(f\"Original : {mon_tuple}\")\n",
    "print(f\"Nouveau  : {nouveau_tuple2}\")"
   ]
  },
  {
   "cell_type": "markdown",
   "id": "1a4e44a5",
   "metadata": {},
   "source": [
    "Exercice 7"
   ]
  },
  {
   "cell_type": "code",
   "execution_count": 12,
   "id": "e19feda4",
   "metadata": {},
   "outputs": [
    {
     "name": "stdout",
     "output_type": "stream",
     "text": [
      "Liste initiale : ['Banana', 'Apples', 'Oranges', 'Blueberries']\n",
      "Après avoir retiré 'Banana' : ['Apples', 'Oranges', 'Blueberries']\n",
      "Après avoir retiré 'Blueberries' : ['Apples', 'Oranges']\n",
      "Après avoir ajouté 'Kiwi' à la fin : ['Apples', 'Oranges', 'Kiwi']\n",
      "Après avoir ajouté 'Apples' au début : ['Apples', 'Apples', 'Oranges', 'Kiwi']\n",
      "Nombre de 'Apples' : 2\n",
      "Après avoir vidé la liste : []\n",
      "\n",
      "=== FINAL ===\n",
      "Liste finale : []\n",
      "La liste est vide : True\n"
     ]
    }
   ],
   "source": [
    "# Créer la liste basket\n",
    "basket = [\"Banana\", \"Apples\", \"Oranges\", \"Blueberries\"]\n",
    "print(\"Liste initiale :\", basket)\n",
    "# Retirer \"Banana\" de la liste\n",
    "basket.remove(\"Banana\")\n",
    "print(\"Après avoir retiré 'Banana' :\", basket)\n",
    "# Retirer \"Blueberries\" de la liste\n",
    "basket.remove(\"Blueberries\")\n",
    "print(\"Après avoir retiré 'Blueberries' :\", basket)\n",
    "# Ajouter \"Kiwi\" à la fin de la liste\n",
    "basket.append(\"Kiwi\")\n",
    "print(\"Après avoir ajouté 'Kiwi' à la fin :\", basket)\n",
    "# Ajouter \"Apples\" au début de la liste\n",
    "basket.insert(0, \"Apples\")\n",
    "print(\"Après avoir ajouté 'Apples' au début :\", basket)\n",
    "# Compter le nombre de fois où \"Apples\" apparaît dans la liste\n",
    "count_apples = basket.count(\"Apples\")\n",
    "print(f\"Nombre de 'Apples' : {count_apples}\")\n",
    "\n",
    "# 6. Vider la liste\n",
    "basket.clear()\n",
    "print(\"Après avoir vidé la liste :\", basket)\n",
    "\n",
    "# 7. Imprimer l'état final de la liste\n",
    "print(\"\\n=== FINAL ===\")\n",
    "print(\"Liste finale :\", basket)\n",
    "print(\"La liste est vide :\", len(basket) == 0)"
   ]
  },
  {
   "cell_type": "markdown",
   "id": "55fa533f",
   "metadata": {},
   "source": [
    "Exercice 8"
   ]
  },
  {
   "cell_type": "code",
   "execution_count": 14,
   "id": "0bff2b47",
   "metadata": {},
   "outputs": [
    {
     "name": "stdout",
     "output_type": "stream",
     "text": [
      "Commandes initiales : ['Tuna sandwich', 'Pastrami sandwich', 'Avocado sandwich', 'Pastrami sandwich', 'Egg sandwich', 'Chicken sandwich', 'Pastrami sandwich']\n",
      "Total de commandes : 7\n",
      "\n",
      "SUPPRESSION DES SANDWICHS AU PASTRAMI\n",
      "La charcuterie n'a plus de pastrami...\n",
      "un 'Pastrami sandwich'supprimé\n",
      "un 'Pastrami sandwich'supprimé\n",
      "un 'Pastrami sandwich'supprimé\n",
      "Commandes après suppression du pastrami : ['Tuna sandwich', 'Avocado sandwich', 'Egg sandwich', 'Chicken sandwich']\n",
      "Nombre de commandes restantes : 4\n",
      "\n",
      "PRÉPARATION DES SANDWICHS\n",
      "Préparation en cours : Tuna sandwich\n",
      "Préparation en cours : Avocado sandwich\n",
      "Préparation en cours : Egg sandwich\n",
      "Préparation en cours : Chicken sandwich\n",
      "\n",
      "Tous les sandwichs ont été préparés !\n",
      "Commandes restantes : []\n",
      "Sandwichs terminés : ['Tuna sandwich', 'Avocado sandwich', 'Egg sandwich', 'Chicken sandwich']\n",
      "\n",
      "=== SANDWICHS TERMINÉS ===\n",
      "I made your tuna sandwich\n",
      "I made your avocado sandwich\n",
      "I made your egg sandwich\n",
      "I made your chicken sandwich\n"
     ]
    }
   ],
   "source": [
    "# Créer une liste sandwich_orders\n",
    "sandwich_orders = [\"Tuna sandwich\", \"Pastrami sandwich\", \"Avocado sandwich\", \n",
    "                   \"Pastrami sandwich\", \"Egg sandwich\", \"Chicken sandwich\", \n",
    "                   \"Pastrami sandwich\"]\n",
    "print(\"Commandes initiales :\", sandwich_orders)\n",
    "print(f\"Total de commandes : {len(sandwich_orders)}\")\n",
    "# On supprime toutes les occurrences de \"Pastrami sandwich\" avec la while\n",
    "print(\"\\nSUPPRESSION DES SANDWICHS AU PASTRAMI\")\n",
    "print(\"La charcuterie n'a plus de pastrami...\")\n",
    "while \"Pastrami sandwich\" in sandwich_orders:\n",
    "    sandwich_orders.remove(\"Pastrami sandwich\")\n",
    "    print(\"un 'Pastrami sandwich'supprimé\")\n",
    "\n",
    "print(\"Commandes après suppression du pastrami :\", sandwich_orders)\n",
    "print(f\"Nombre de commandes restantes : {len(sandwich_orders)}\")\n",
    "\n",
    "# Créer une liste vide pour les finished_sandwiches\n",
    "finished_sandwiches = []\n",
    "print(\"\\nPRÉPARATION DES SANDWICHS\")\n",
    "\n",
    "# 3. Transférer chaque sandwich de sandwich_orders vers finished_sandwiches\n",
    "while sandwich_orders:\n",
    "    current_sandwich = sandwich_orders.pop(0)\n",
    "    # L'ajouter à la liste des finished_sandwiches\n",
    "    finished_sandwiches.append(current_sandwich)\n",
    "    print(f\"Préparation en cours : {current_sandwich}\")\n",
    "\n",
    "print(f\"\\nTous les sandwichs ont été préparés !\")\n",
    "print(f\"Commandes restantes : {sandwich_orders}\")\n",
    "print(f\"Sandwichs terminés : {finished_sandwiches}\")\n",
    "# Imprimer un message pour chaque sandwich préparé\n",
    "print(\"\\n=== SANDWICHS TERMINÉS ===\")\n",
    "for sandwich in finished_sandwiches:\n",
    "    sandwich_name = sandwich.replace(\" sandwich\", \"\").lower()\n",
    "    print(f\"I made your {sandwich_name} sandwich\")\n"
   ]
  }
 ],
 "metadata": {
  "kernelspec": {
   "display_name": "Python 3",
   "language": "python",
   "name": "python3"
  },
  "language_info": {
   "codemirror_mode": {
    "name": "ipython",
    "version": 3
   },
   "file_extension": ".py",
   "mimetype": "text/x-python",
   "name": "python",
   "nbconvert_exporter": "python",
   "pygments_lexer": "ipython3",
   "version": "3.11.9"
  }
 },
 "nbformat": 4,
 "nbformat_minor": 5
}
